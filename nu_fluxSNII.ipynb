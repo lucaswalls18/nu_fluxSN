{
 "cells": [
  {
   "cell_type": "markdown",
   "id": "96c53a4f",
   "metadata": {},
   "source": [
    "# Supernova neutrino flux \n",
    "This notebook demonstrates the importance of neutrino flux in explosive nucleosynthesis."
   ]
  },
  {
   "cell_type": "code",
   "execution_count": null,
   "id": "54d34ef0",
   "metadata": {},
   "outputs": [],
   "source": []
  },
  {
   "cell_type": "markdown",
   "id": "50ae48c0",
   "metadata": {},
   "source": [
    "## Importing libraries "
   ]
  },
  {
   "cell_type": "markdown",
   "id": "183bc893",
   "metadata": {},
   "source": [
    "First, we import the necessary libraries:"
   ]
  },
  {
   "cell_type": "code",
   "execution_count": null,
   "id": "4870cbc5",
   "metadata": {},
   "outputs": [],
   "source": []
  },
  {
   "cell_type": "markdown",
   "id": "ef5e6651",
   "metadata": {},
   "source": [
    "## Neutrino Flux "
   ]
  },
  {
   "cell_type": "markdown",
   "id": "9294ecc4",
   "metadata": {},
   "source": [
    "Neutrinos play an important role in cooling the newly formed neutron star in CCSN, heating the supernova shock, and explosive nucleosynthesis. The recently formed neutron star is cooled from neutrino emission which is different from cooling from photon emission since neutrons are fermions. Neutrino's follow Fermi-Dirac statistics following from the Pauli exclusion principle. The equilibrium intensity of neutrinos is given by: \n",
    "\\begin{gather}\n",
    "I_\\nu = \\frac{2h\\nu^3/c^2}{e^{h\\nu/kT}+1}\\notag\n",
    "\\end{gather}\n",
    "\n",
    "We can plot this intensity vs frequency: "
   ]
  },
  {
   "cell_type": "code",
   "execution_count": null,
   "id": "6304e56c",
   "metadata": {},
   "outputs": [],
   "source": []
  },
  {
   "cell_type": "markdown",
   "id": "9d18c5bb",
   "metadata": {},
   "source": [
    "The flux for an isotropic emitter as a function of radius is:\n",
    "\\begin{gather}\n",
    "F = \\pi B (R/r)^2 \\notag\n",
    "\\end{gather}\n",
    "where B is the brightness (intensity integrated over all frequencies). Where we can obtain the brightness with the simple relationship:\n",
    "\\begin{gather}\n",
    "B = \\int I_\\nu d\\nu = a_{fermion} T^4 \\notag\n",
    "\\end{gather}\n",
    "where $a_{fermion}$ is given by:\n",
    "\\begin{gather}\n",
    "a_{fermion} = \\frac{7}{8} a_{photon}\n",
    "\\end{gather}\n",
    "\n",
    "Using this we can plot the flux as a function of radius and neutron star temperature:"
   ]
  },
  {
   "cell_type": "code",
   "execution_count": null,
   "id": "1d26446c",
   "metadata": {},
   "outputs": [],
   "source": []
  },
  {
   "cell_type": "markdown",
   "id": "023a22cb",
   "metadata": {},
   "source": [
    "## Neutrino interaction rate"
   ]
  },
  {
   "cell_type": "markdown",
   "id": "85008ac9",
   "metadata": {},
   "source": [
    "We now aim to create a simple model for the neutrino interactions as a function of radius. We have obtained the flux which is energy per area per second. If we divide this by the average neutrino energy $<E>$ and multiply by the interaction cross section for the relevant reactions we obtain a rate that is the number of interactions per second. \n",
    "\n",
    "We can then plot the neutrino interaction rate as a function of radius:"
   ]
  },
  {
   "cell_type": "code",
   "execution_count": null,
   "id": "f97b8da0",
   "metadata": {},
   "outputs": [],
   "source": []
  },
  {
   "cell_type": "markdown",
   "id": "97f38f5d",
   "metadata": {},
   "source": [
    "## The alpha-rich freezout "
   ]
  },
  {
   "cell_type": "markdown",
   "id": "cc3a6a81",
   "metadata": {},
   "source": [
    "Neutrino interactions are particularly relevant for the production of key isotopes such as $^{26}$Al and $^{44}$Ti in alpha-rich freezeout. \n",
    "\n",
    "Alpha-rich freezeout occurs during the propagation of the shockwave through the innermost Fe/Ni region of the star. The rapid heating disentegrates the heavy nuclei and the subsequent cooling from the adiabetic expansion happens so quickly that many of the remaining nucleons are locked up in alpha particles, hence the term alpha rich freezeout. \n",
    "\n",
    "It has been observed that knots of the innermost $\\alpha$ freezeout material is shot through the star and thus we expect the neutrino interactions decrease with time. \n",
    "\n",
    "We begin here by examining the nucleosynthesis in alpha-rich freezeout via a single-zone network calculation. The zone was given a trajectory of temperature, radius, and density as a function of time.\n",
    "\n",
    "First, we import the data:"
   ]
  },
  {
   "cell_type": "code",
   "execution_count": null,
   "id": "0a2a2c62",
   "metadata": {},
   "outputs": [],
   "source": []
  },
  {
   "cell_type": "markdown",
   "id": "0440d73a",
   "metadata": {},
   "source": [
    "Now we can plot the abundances of $^{26}$Al and $^{44}$Ti as a function of various different properties with the wnutils python package: "
   ]
  },
  {
   "cell_type": "code",
   "execution_count": null,
   "id": "1089c988",
   "metadata": {},
   "outputs": [],
   "source": []
  },
  {
   "cell_type": "code",
   "execution_count": null,
   "id": "6aeb6600",
   "metadata": {},
   "outputs": [],
   "source": []
  },
  {
   "cell_type": "code",
   "execution_count": null,
   "id": "547de108",
   "metadata": {},
   "outputs": [],
   "source": []
  },
  {
   "cell_type": "markdown",
   "id": "35678df8",
   "metadata": {},
   "source": [
    "Similarly, we can plot various properties vs time:"
   ]
  },
  {
   "cell_type": "code",
   "execution_count": null,
   "id": "319625d0",
   "metadata": {},
   "outputs": [],
   "source": []
  },
  {
   "cell_type": "markdown",
   "id": "c83c54ef",
   "metadata": {},
   "source": [
    "We can also use the wnnet python package to look at the neutrino reactions occuring at each time step:"
   ]
  },
  {
   "cell_type": "code",
   "execution_count": null,
   "id": "4440ec29",
   "metadata": {},
   "outputs": [],
   "source": []
  },
  {
   "cell_type": "markdown",
   "id": "0530384d",
   "metadata": {},
   "source": [
    "## Comparing alpha-rich freezeout nucleosynthesis to neutrino flux"
   ]
  },
  {
   "cell_type": "markdown",
   "id": "41843fc4",
   "metadata": {},
   "source": [
    "For this section we compare the derived neutrino interaction rate which goes like $\\frac{1}{r^2}$ to the neutrino interactions in alpha-rich freezeout. \n",
    "\n",
    "Here we define a routine to get the number of neutrino interactions from the network flows:"
   ]
  },
  {
   "cell_type": "code",
   "execution_count": null,
   "id": "5512f3b8",
   "metadata": {},
   "outputs": [],
   "source": []
  },
  {
   "cell_type": "markdown",
   "id": "d3c37a3f",
   "metadata": {},
   "source": [
    "Finally we plot the interactions in the alpha-rich freezeout as a function of radius and the derived interactions as a function of radius and compare the results: "
   ]
  },
  {
   "cell_type": "code",
   "execution_count": null,
   "id": "7c90728b",
   "metadata": {},
   "outputs": [],
   "source": []
  }
 ],
 "metadata": {
  "kernelspec": {
   "display_name": "venv",
   "language": "python",
   "name": "venv"
  },
  "language_info": {
   "codemirror_mode": {
    "name": "ipython",
    "version": 3
   },
   "file_extension": ".py",
   "mimetype": "text/x-python",
   "name": "python",
   "nbconvert_exporter": "python",
   "pygments_lexer": "ipython3",
   "version": "3.9.1"
  }
 },
 "nbformat": 4,
 "nbformat_minor": 5
}
